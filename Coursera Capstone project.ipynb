{
 "cells": [
  {
   "cell_type": "markdown",
   "metadata": {},
   "source": [
    "## Predicting student performance in Dutch schools"
   ]
  },
  {
   "cell_type": "markdown",
   "metadata": {},
   "source": [
    "This project concerns predictions about students' school performance based on how well they studied in school, so their average school year grade, as well as how good they performed on their school exams. The item we would like to predict is their performance on the final state exam. Additionally, some extrafactors comeinto play, that is the level of their education (according to the Dutch grading system).\n",
    "\n",
    "So, the question is **How good will a student perform on a state exam based on his overall performance, level of education as well as practice exams?**\n",
    "\n",
    "The question is quite important to answer for students and their parents. The result of this analysis can be used by these stakeholders, because they will be able to assess their chances at getting into a certain university or getting a scholarship. Additionally, it can be used by schools that would like to improve their reputation because it will identify whatis the main predictor of good State exam results. Thus, schools will be ableto see early which students might fail the final exams and try to help them suceed."
   ]
  },
  {
   "cell_type": "markdown",
   "metadata": {},
   "source": [
    "### Table of contents"
   ]
  },
  {
   "cell_type": "markdown",
   "metadata": {},
   "source": [
    "1.[Data Source](#Data-Source)\n",
    "\n",
    "2.[Data Quality Check](#Data-Quality-Check)\n",
    "\n",
    "3.[Data Exploration](#Data-Exploration)\n",
    "\n",
    "4.[ETL](#Extract-Transform-Load)\n",
    "\n",
    "5.[Feature Creation](#Feature-Creation)\n",
    "\n",
    "6.[Non Deep Learning model Definition, Training and Evaluation](#Non-Deep-Learning-model-Definition,-Training-and-Evaluation)\n",
    "\n",
    "7.[Deep Learning model Definition, Training and Evaluation](#Deep-Learning-model-Definition,-Training-and-Evaluation)\n",
    "\n",
    "8.[Model Deployment](#Model-Deployment)\n",
    "\n",
    "9.[Conclusion and Discussion](#Conclusion)"
   ]
  },
  {
   "cell_type": "markdown",
   "metadata": {},
   "source": [
    "### Data Source"
   ]
  },
  {
   "cell_type": "markdown",
   "metadata": {},
   "source": [
    "Data is taken from the Dutch government website: https://data.overheid.nl/. The link to the dataset itself can be found here: https://www.duo.nl/open_onderwijsdata/databestanden/vo/leerlingen/leerlingen-vo-7.jsp . The dataset includes data on students who took their final state examination as well as their average grade. More specifically, the following fields were part of the dataset:\n",
    "\n",
    "| BRIN NUMMER        | VESTIGING NUMMER           | INSTELLINGSNAAM VESTIGING  |GEMENTENAAM VESTIGING | PROVINCIE VESTIGING        | ONDERWIJS TYPE           | AFDELING  |EXAMENCANDIDATEN |GESLAAGDEN        | GEZAKTEN  |GEMIDDELD CIJFER SCHOOLEXAMEN | GEMIDDELD CIJFER CENTRAAL EXAMEN  |GEMIDDELD CIJFER CIJFERLIJST |\n",
    "| -------------|-------------|-------------|-------------|-------------|-------------|-------------|-------------|-------------|-------------|-------------|-------------|-------------|\n",
    "| Educational institution code     | Area code | Name of the educational institution | Name of the area| Province name code     | Type of the institution | Department | Numberof exam candidates| N of passed | N of failed | Average grade for the school exam| Average grade at the State exam | Average performance at school|\n",
    "\n"
   ]
  },
  {
   "cell_type": "markdown",
   "metadata": {},
   "source": [
    "Obviously, at first the data needs to be downloaded and imported into the notebook:"
   ]
  },
  {
   "cell_type": "code",
   "execution_count": 30,
   "metadata": {},
   "outputs": [
    {
     "data": {
      "text/html": [
       "<div>\n",
       "<style scoped>\n",
       "    .dataframe tbody tr th:only-of-type {\n",
       "        vertical-align: middle;\n",
       "    }\n",
       "\n",
       "    .dataframe tbody tr th {\n",
       "        vertical-align: top;\n",
       "    }\n",
       "\n",
       "    .dataframe thead th {\n",
       "        text-align: right;\n",
       "    }\n",
       "</style>\n",
       "<table border=\"1\" class=\"dataframe\">\n",
       "  <thead>\n",
       "    <tr style=\"text-align: right;\">\n",
       "      <th></th>\n",
       "      <th>BRIN NUMMER</th>\n",
       "      <th>VESTIGINGSNUMMER</th>\n",
       "      <th>INSTELLINGSNAAM VESTIGING</th>\n",
       "      <th>GEMEENTENAAM VESTIGING</th>\n",
       "      <th>PROVINCIE VESTIGING</th>\n",
       "      <th>ONDERWIJSTYPE VO</th>\n",
       "      <th>LEERWEG VMBO</th>\n",
       "      <th>VMBO SECTOR</th>\n",
       "      <th>AFDELING</th>\n",
       "      <th>EXAMENKANDIDATEN</th>\n",
       "      <th>GESLAAGDEN</th>\n",
       "      <th>GEZAKTEN</th>\n",
       "      <th>GEMIDDELD CIJFER SCHOOLEXAMEN</th>\n",
       "      <th>GEMIDDELD CIJFER CENTRAAL EXAMEN</th>\n",
       "      <th>GEMIDDELD CIJFER CIJFERLIJST</th>\n",
       "    </tr>\n",
       "  </thead>\n",
       "  <tbody>\n",
       "    <tr>\n",
       "      <th>0</th>\n",
       "      <td>00AH</td>\n",
       "      <td>00AH00</td>\n",
       "      <td>Opb SGM t Stedelijk Lyceum</td>\n",
       "      <td>ENSCHEDE</td>\n",
       "      <td>Overijssel</td>\n",
       "      <td>HAVO</td>\n",
       "      <td>NaN</td>\n",
       "      <td>NaN</td>\n",
       "      <td>Cultuur en Maatschappij</td>\n",
       "      <td>2</td>\n",
       "      <td>2</td>\n",
       "      <td>0</td>\n",
       "      <td>6.8</td>\n",
       "      <td>6.7</td>\n",
       "      <td>6.9</td>\n",
       "    </tr>\n",
       "    <tr>\n",
       "      <th>1</th>\n",
       "      <td>00AH</td>\n",
       "      <td>00AH00</td>\n",
       "      <td>Opb SGM t Stedelijk Lyceum</td>\n",
       "      <td>ENSCHEDE</td>\n",
       "      <td>Overijssel</td>\n",
       "      <td>HAVO</td>\n",
       "      <td>NaN</td>\n",
       "      <td>NaN</td>\n",
       "      <td>Economie en Maatschappij</td>\n",
       "      <td>38</td>\n",
       "      <td>32</td>\n",
       "      <td>6</td>\n",
       "      <td>6.2</td>\n",
       "      <td>6.3</td>\n",
       "      <td>6.4</td>\n",
       "    </tr>\n",
       "    <tr>\n",
       "      <th>2</th>\n",
       "      <td>00AH</td>\n",
       "      <td>00AH00</td>\n",
       "      <td>Opb SGM t Stedelijk Lyceum</td>\n",
       "      <td>ENSCHEDE</td>\n",
       "      <td>Overijssel</td>\n",
       "      <td>HAVO</td>\n",
       "      <td>NaN</td>\n",
       "      <td>NaN</td>\n",
       "      <td>Economie en Maatschappij / Cultuur en Maatscha...</td>\n",
       "      <td>5</td>\n",
       "      <td>4</td>\n",
       "      <td>1</td>\n",
       "      <td>6.2</td>\n",
       "      <td>6.0</td>\n",
       "      <td>6.3</td>\n",
       "    </tr>\n",
       "    <tr>\n",
       "      <th>3</th>\n",
       "      <td>00AH</td>\n",
       "      <td>00AH00</td>\n",
       "      <td>Opb SGM t Stedelijk Lyceum</td>\n",
       "      <td>ENSCHEDE</td>\n",
       "      <td>Overijssel</td>\n",
       "      <td>HAVO</td>\n",
       "      <td>NaN</td>\n",
       "      <td>NaN</td>\n",
       "      <td>Natuur en Gezondheid</td>\n",
       "      <td>33</td>\n",
       "      <td>23</td>\n",
       "      <td>10</td>\n",
       "      <td>6.2</td>\n",
       "      <td>6.1</td>\n",
       "      <td>6.3</td>\n",
       "    </tr>\n",
       "    <tr>\n",
       "      <th>4</th>\n",
       "      <td>00AH</td>\n",
       "      <td>00AH00</td>\n",
       "      <td>Opb SGM t Stedelijk Lyceum</td>\n",
       "      <td>ENSCHEDE</td>\n",
       "      <td>Overijssel</td>\n",
       "      <td>HAVO</td>\n",
       "      <td>NaN</td>\n",
       "      <td>NaN</td>\n",
       "      <td>Natuur en Techniek</td>\n",
       "      <td>4</td>\n",
       "      <td>2</td>\n",
       "      <td>2</td>\n",
       "      <td>6.1</td>\n",
       "      <td>6.1</td>\n",
       "      <td>6.4</td>\n",
       "    </tr>\n",
       "  </tbody>\n",
       "</table>\n",
       "</div>"
      ],
      "text/plain": [
       "  BRIN NUMMER VESTIGINGSNUMMER   INSTELLINGSNAAM VESTIGING  \\\n",
       "0        00AH           00AH00  Opb SGM t Stedelijk Lyceum   \n",
       "1        00AH           00AH00  Opb SGM t Stedelijk Lyceum   \n",
       "2        00AH           00AH00  Opb SGM t Stedelijk Lyceum   \n",
       "3        00AH           00AH00  Opb SGM t Stedelijk Lyceum   \n",
       "4        00AH           00AH00  Opb SGM t Stedelijk Lyceum   \n",
       "\n",
       "  GEMEENTENAAM VESTIGING PROVINCIE VESTIGING ONDERWIJSTYPE VO LEERWEG VMBO  \\\n",
       "0               ENSCHEDE          Overijssel             HAVO          NaN   \n",
       "1               ENSCHEDE          Overijssel             HAVO          NaN   \n",
       "2               ENSCHEDE          Overijssel             HAVO          NaN   \n",
       "3               ENSCHEDE          Overijssel             HAVO          NaN   \n",
       "4               ENSCHEDE          Overijssel             HAVO          NaN   \n",
       "\n",
       "  VMBO SECTOR                                           AFDELING  \\\n",
       "0         NaN                            Cultuur en Maatschappij   \n",
       "1         NaN                           Economie en Maatschappij   \n",
       "2         NaN  Economie en Maatschappij / Cultuur en Maatscha...   \n",
       "3         NaN                               Natuur en Gezondheid   \n",
       "4         NaN                                 Natuur en Techniek   \n",
       "\n",
       "   EXAMENKANDIDATEN  GESLAAGDEN  GEZAKTEN  GEMIDDELD CIJFER SCHOOLEXAMEN  \\\n",
       "0                 2           2         0                            6.8   \n",
       "1                38          32         6                            6.2   \n",
       "2                 5           4         1                            6.2   \n",
       "3                33          23        10                            6.2   \n",
       "4                 4           2         2                            6.1   \n",
       "\n",
       "   GEMIDDELD CIJFER CENTRAAL EXAMEN  GEMIDDELD CIJFER CIJFERLIJST  \n",
       "0                               6.7                           6.9  \n",
       "1                               6.3                           6.4  \n",
       "2                               6.0                           6.3  \n",
       "3                               6.1                           6.3  \n",
       "4                               6.1                           6.4  "
      ]
     },
     "execution_count": 30,
     "metadata": {},
     "output_type": "execute_result"
    }
   ],
   "source": [
    "\n",
    "import types\n",
    "import pandas as pd\n",
    "from botocore.client import Config\n",
    "import ibm_boto3\n",
    "\n",
    "def __iter__(self): return 0\n",
    "\n",
    "# @hidden_cell\n",
    "# The following code accesses a file in your IBM Cloud Object Storage. It includes your credentials.\n",
    "# You might want to remove those credentials before you share the notebook.\n",
    "client_43d174e2a28c4a688502803b33a6000a = ibm_boto3.client(service_name='s3',\n",
    "    ibm_api_key_id='tnSn2jOMmTbSLpH6E5EeV0YhQUutl00kR4ths8LtfNIf',\n",
    "    ibm_auth_endpoint=\"https://iam.eu-gb.bluemix.net/oidc/token\",\n",
    "    config=Config(signature_version='oauth'),\n",
    "    endpoint_url='https://s3.eu-geo.objectstorage.service.networklayer.com')\n",
    "\n",
    "body = client_43d174e2a28c4a688502803b33a6000a.get_object(Bucket='pythonbasicsfordatascienceproject-donotdelete-pr-tv665solrgtita',Key='07-geslaagden-gezakten-en-cijfers-2017-2018.xlsx')['Body']\n",
    "# add missing __iter__ method, so pandas accepts body as file-like object\n",
    "if not hasattr(body, \"__iter__\"): body.__iter__ = types.MethodType( __iter__, body )\n",
    "\n",
    "df = pd.read_excel(body)\n",
    "df.head()\n"
   ]
  },
  {
   "cell_type": "markdown",
   "metadata": {},
   "source": [
    "### Data Quality Check"
   ]
  },
  {
   "cell_type": "markdown",
   "metadata": {},
   "source": [
    "#### Missing cases"
   ]
  },
  {
   "cell_type": "markdown",
   "metadata": {},
   "source": [
    "There are only empty fields in 3 columns out of 14: LEERWEG VMBO, VMBO SECTOR, AFDELING. As we can see, the 2 former ones have a lot of missing values. Out of approximately 10000 entries, almost 6000 are missing. So, these 2 columns contain very little data and are candidates to be removed."
   ]
  },
  {
   "cell_type": "code",
   "execution_count": 3,
   "metadata": {},
   "outputs": [
    {
     "data": {
      "text/plain": [
       "BRIN NUMMER    10406\n",
       "dtype: int64"
      ]
     },
     "execution_count": 3,
     "metadata": {},
     "output_type": "execute_result"
    }
   ],
   "source": [
    "df[['BRIN NUMMER']].count()"
   ]
  },
  {
   "cell_type": "code",
   "execution_count": 4,
   "metadata": {},
   "outputs": [
    {
     "name": "stdout",
     "output_type": "stream",
     "text": [
      "There are empty fields in the following columns:  BRIN NUMMER                         False\n",
      "VESTIGINGSNUMMER                    False\n",
      "INSTELLINGSNAAM VESTIGING           False\n",
      "GEMEENTENAAM VESTIGING              False\n",
      "PROVINCIE VESTIGING                 False\n",
      "ONDERWIJSTYPE VO                    False\n",
      "LEERWEG VMBO                         True\n",
      "VMBO SECTOR                          True\n",
      "AFDELING                             True\n",
      "EXAMENKANDIDATEN                    False\n",
      "GESLAAGDEN                          False\n",
      "GEZAKTEN                            False\n",
      "GEMIDDELD CIJFER SCHOOLEXAMEN       False\n",
      "GEMIDDELD CIJFER CENTRAAL EXAMEN    False\n",
      "GEMIDDELD CIJFER CIJFERLIJST        False\n",
      "dtype: bool\n",
      "The number of missing values is:  LEERWEG VMBO    5751\n",
      "VMBO SECTOR     6486\n",
      "AFDELING         735\n",
      "dtype: int64\n"
     ]
    }
   ],
   "source": [
    "print('There are empty fields in the following columns: ', df.isnull().any())\n",
    "print('The number of missing values is: ',df[['LEERWEG VMBO', 'VMBO SECTOR','AFDELING']].isnull().sum() )"
   ]
  },
  {
   "cell_type": "markdown",
   "metadata": {},
   "source": [
    "#### Data types"
   ]
  },
  {
   "cell_type": "markdown",
   "metadata": {},
   "source": [
    "Additionally, all the columns data types were identified properly. So, items that must be integer are integer, items that must be float are float, etc. Therefore, no column types needto be changed."
   ]
  },
  {
   "cell_type": "code",
   "execution_count": 67,
   "metadata": {
    "scrolled": false
   },
   "outputs": [
    {
     "data": {
      "text/plain": [
       "BRIN NUMMER                          object\n",
       "VESTIGINGSNUMMER                     object\n",
       "INSTELLINGSNAAM VESTIGING            object\n",
       "GEMEENTENAAM VESTIGING               object\n",
       "PROVINCIE VESTIGING                  object\n",
       "ONDERWIJSTYPE VO                     object\n",
       "LEERWEG VMBO                         object\n",
       "VMBO SECTOR                          object\n",
       "AFDELING                             object\n",
       "EXAMENKANDIDATEN                      int64\n",
       "GESLAAGDEN                            int64\n",
       "GEZAKTEN                              int64\n",
       "GEMIDDELD CIJFER SCHOOLEXAMEN       float64\n",
       "GEMIDDELD CIJFER CENTRAAL EXAMEN    float64\n",
       "GEMIDDELD CIJFER CIJFERLIJST        float64\n",
       "dtype: object"
      ]
     },
     "execution_count": 67,
     "metadata": {},
     "output_type": "execute_result"
    }
   ],
   "source": [
    "df.dtypes"
   ]
  },
  {
   "cell_type": "markdown",
   "metadata": {},
   "source": [
    "#### Duplicate values"
   ]
  },
  {
   "cell_type": "markdown",
   "metadata": {},
   "source": [
    "Duplicates are not in this dataset. This was mentioned in the data source. Therefore, this check is not needed."
   ]
  },
  {
   "cell_type": "markdown",
   "metadata": {},
   "source": [
    "### Data Exploration"
   ]
  },
  {
   "cell_type": "markdown",
   "metadata": {},
   "source": [
    "The numbers below, showing the main statistics for the data make total sense. The number of candidates can be any. At the same time, the number of people who passed or failed an exam is not higher than the total number of candidates, so this data is of good quality. Data on the grades is also of good quality as it is not lower than 0, but not higher than 10. Therefore, the key statistics show that data used is good."
   ]
  },
  {
   "cell_type": "code",
   "execution_count": 74,
   "metadata": {
    "scrolled": true
   },
   "outputs": [
    {
     "data": {
      "text/html": [
       "<div>\n",
       "<style scoped>\n",
       "    .dataframe tbody tr th:only-of-type {\n",
       "        vertical-align: middle;\n",
       "    }\n",
       "\n",
       "    .dataframe tbody tr th {\n",
       "        vertical-align: top;\n",
       "    }\n",
       "\n",
       "    .dataframe thead th {\n",
       "        text-align: right;\n",
       "    }\n",
       "</style>\n",
       "<table border=\"1\" class=\"dataframe\">\n",
       "  <thead>\n",
       "    <tr style=\"text-align: right;\">\n",
       "      <th></th>\n",
       "      <th>EXAMENKANDIDATEN</th>\n",
       "      <th>GESLAAGDEN</th>\n",
       "      <th>GEZAKTEN</th>\n",
       "      <th>GEMIDDELD CIJFER SCHOOLEXAMEN</th>\n",
       "      <th>GEMIDDELD CIJFER CENTRAAL EXAMEN</th>\n",
       "      <th>GEMIDDELD CIJFER CIJFERLIJST</th>\n",
       "    </tr>\n",
       "  </thead>\n",
       "  <tbody>\n",
       "    <tr>\n",
       "      <th>count</th>\n",
       "      <td>10406.000000</td>\n",
       "      <td>10406.000000</td>\n",
       "      <td>10406.000000</td>\n",
       "      <td>10406.000000</td>\n",
       "      <td>10406.000000</td>\n",
       "      <td>10406.000000</td>\n",
       "    </tr>\n",
       "    <tr>\n",
       "      <th>mean</th>\n",
       "      <td>19.190563</td>\n",
       "      <td>17.629541</td>\n",
       "      <td>1.561022</td>\n",
       "      <td>6.485047</td>\n",
       "      <td>6.429521</td>\n",
       "      <td>6.591053</td>\n",
       "    </tr>\n",
       "    <tr>\n",
       "      <th>std</th>\n",
       "      <td>23.236190</td>\n",
       "      <td>21.497076</td>\n",
       "      <td>2.709315</td>\n",
       "      <td>0.301999</td>\n",
       "      <td>0.402717</td>\n",
       "      <td>0.295508</td>\n",
       "    </tr>\n",
       "    <tr>\n",
       "      <th>min</th>\n",
       "      <td>1.000000</td>\n",
       "      <td>0.000000</td>\n",
       "      <td>0.000000</td>\n",
       "      <td>5.100000</td>\n",
       "      <td>3.900000</td>\n",
       "      <td>4.000000</td>\n",
       "    </tr>\n",
       "    <tr>\n",
       "      <th>25%</th>\n",
       "      <td>6.000000</td>\n",
       "      <td>5.000000</td>\n",
       "      <td>0.000000</td>\n",
       "      <td>6.300000</td>\n",
       "      <td>6.200000</td>\n",
       "      <td>6.400000</td>\n",
       "    </tr>\n",
       "    <tr>\n",
       "      <th>50%</th>\n",
       "      <td>12.000000</td>\n",
       "      <td>11.000000</td>\n",
       "      <td>1.000000</td>\n",
       "      <td>6.500000</td>\n",
       "      <td>6.400000</td>\n",
       "      <td>6.600000</td>\n",
       "    </tr>\n",
       "    <tr>\n",
       "      <th>75%</th>\n",
       "      <td>23.000000</td>\n",
       "      <td>21.000000</td>\n",
       "      <td>2.000000</td>\n",
       "      <td>6.700000</td>\n",
       "      <td>6.700000</td>\n",
       "      <td>6.800000</td>\n",
       "    </tr>\n",
       "    <tr>\n",
       "      <th>max</th>\n",
       "      <td>242.000000</td>\n",
       "      <td>229.000000</td>\n",
       "      <td>32.000000</td>\n",
       "      <td>9.100000</td>\n",
       "      <td>9.100000</td>\n",
       "      <td>9.000000</td>\n",
       "    </tr>\n",
       "  </tbody>\n",
       "</table>\n",
       "</div>"
      ],
      "text/plain": [
       "       EXAMENKANDIDATEN    GESLAAGDEN      GEZAKTEN  \\\n",
       "count      10406.000000  10406.000000  10406.000000   \n",
       "mean          19.190563     17.629541      1.561022   \n",
       "std           23.236190     21.497076      2.709315   \n",
       "min            1.000000      0.000000      0.000000   \n",
       "25%            6.000000      5.000000      0.000000   \n",
       "50%           12.000000     11.000000      1.000000   \n",
       "75%           23.000000     21.000000      2.000000   \n",
       "max          242.000000    229.000000     32.000000   \n",
       "\n",
       "       GEMIDDELD CIJFER SCHOOLEXAMEN  GEMIDDELD CIJFER CENTRAAL EXAMEN  \\\n",
       "count                   10406.000000                      10406.000000   \n",
       "mean                        6.485047                          6.429521   \n",
       "std                         0.301999                          0.402717   \n",
       "min                         5.100000                          3.900000   \n",
       "25%                         6.300000                          6.200000   \n",
       "50%                         6.500000                          6.400000   \n",
       "75%                         6.700000                          6.700000   \n",
       "max                         9.100000                          9.100000   \n",
       "\n",
       "       GEMIDDELD CIJFER CIJFERLIJST  \n",
       "count                  10406.000000  \n",
       "mean                       6.591053  \n",
       "std                        0.295508  \n",
       "min                        4.000000  \n",
       "25%                        6.400000  \n",
       "50%                        6.600000  \n",
       "75%                        6.800000  \n",
       "max                        9.000000  "
      ]
     },
     "execution_count": 74,
     "metadata": {},
     "output_type": "execute_result"
    }
   ],
   "source": [
    "df.describe()"
   ]
  },
  {
   "cell_type": "markdown",
   "metadata": {},
   "source": [
    "#### Feature quality assessment"
   ]
  },
  {
   "cell_type": "markdown",
   "metadata": {},
   "source": [
    "To do this, a correlation matrix will be created."
   ]
  },
  {
   "cell_type": "code",
   "execution_count": 5,
   "metadata": {},
   "outputs": [
    {
     "data": {
      "text/html": [
       "<style  type=\"text/css\" >\n",
       "    #T_c10c01f2_151f_11ea_8266_d5835e076d48row0_col0 {\n",
       "            background-color:  #b40426;\n",
       "            color:  #f1f1f1;\n",
       "        }    #T_c10c01f2_151f_11ea_8266_d5835e076d48row0_col1 {\n",
       "            background-color:  #b50927;\n",
       "            color:  #f1f1f1;\n",
       "        }    #T_c10c01f2_151f_11ea_8266_d5835e076d48row0_col2 {\n",
       "            background-color:  #f4987a;\n",
       "            color:  #000000;\n",
       "        }    #T_c10c01f2_151f_11ea_8266_d5835e076d48row0_col3 {\n",
       "            background-color:  #6788ee;\n",
       "            color:  #000000;\n",
       "        }    #T_c10c01f2_151f_11ea_8266_d5835e076d48row0_col4 {\n",
       "            background-color:  #799cf8;\n",
       "            color:  #000000;\n",
       "        }    #T_c10c01f2_151f_11ea_8266_d5835e076d48row0_col5 {\n",
       "            background-color:  #7597f6;\n",
       "            color:  #000000;\n",
       "        }    #T_c10c01f2_151f_11ea_8266_d5835e076d48row1_col0 {\n",
       "            background-color:  #b50927;\n",
       "            color:  #f1f1f1;\n",
       "        }    #T_c10c01f2_151f_11ea_8266_d5835e076d48row1_col1 {\n",
       "            background-color:  #b40426;\n",
       "            color:  #f1f1f1;\n",
       "        }    #T_c10c01f2_151f_11ea_8266_d5835e076d48row1_col2 {\n",
       "            background-color:  #f7ad90;\n",
       "            color:  #000000;\n",
       "        }    #T_c10c01f2_151f_11ea_8266_d5835e076d48row1_col3 {\n",
       "            background-color:  #6e90f2;\n",
       "            color:  #000000;\n",
       "        }    #T_c10c01f2_151f_11ea_8266_d5835e076d48row1_col4 {\n",
       "            background-color:  #82a6fb;\n",
       "            color:  #000000;\n",
       "        }    #T_c10c01f2_151f_11ea_8266_d5835e076d48row1_col5 {\n",
       "            background-color:  #7da0f9;\n",
       "            color:  #000000;\n",
       "        }    #T_c10c01f2_151f_11ea_8266_d5835e076d48row2_col0 {\n",
       "            background-color:  #f7b093;\n",
       "            color:  #000000;\n",
       "        }    #T_c10c01f2_151f_11ea_8266_d5835e076d48row2_col1 {\n",
       "            background-color:  #f3c8b2;\n",
       "            color:  #000000;\n",
       "        }    #T_c10c01f2_151f_11ea_8266_d5835e076d48row2_col2 {\n",
       "            background-color:  #b40426;\n",
       "            color:  #f1f1f1;\n",
       "        }    #T_c10c01f2_151f_11ea_8266_d5835e076d48row2_col3 {\n",
       "            background-color:  #3b4cc0;\n",
       "            color:  #f1f1f1;\n",
       "        }    #T_c10c01f2_151f_11ea_8266_d5835e076d48row2_col4 {\n",
       "            background-color:  #3b4cc0;\n",
       "            color:  #f1f1f1;\n",
       "        }    #T_c10c01f2_151f_11ea_8266_d5835e076d48row2_col5 {\n",
       "            background-color:  #3b4cc0;\n",
       "            color:  #f1f1f1;\n",
       "        }    #T_c10c01f2_151f_11ea_8266_d5835e076d48row3_col0 {\n",
       "            background-color:  #3f53c6;\n",
       "            color:  #f1f1f1;\n",
       "        }    #T_c10c01f2_151f_11ea_8266_d5835e076d48row3_col1 {\n",
       "            background-color:  #3c4ec2;\n",
       "            color:  #f1f1f1;\n",
       "        }    #T_c10c01f2_151f_11ea_8266_d5835e076d48row3_col2 {\n",
       "            background-color:  #506bda;\n",
       "            color:  #000000;\n",
       "        }    #T_c10c01f2_151f_11ea_8266_d5835e076d48row3_col3 {\n",
       "            background-color:  #b40426;\n",
       "            color:  #f1f1f1;\n",
       "        }    #T_c10c01f2_151f_11ea_8266_d5835e076d48row3_col4 {\n",
       "            background-color:  #f7b79b;\n",
       "            color:  #000000;\n",
       "        }    #T_c10c01f2_151f_11ea_8266_d5835e076d48row3_col5 {\n",
       "            background-color:  #df634e;\n",
       "            color:  #000000;\n",
       "        }    #T_c10c01f2_151f_11ea_8266_d5835e076d48row4_col0 {\n",
       "            background-color:  #3b4cc0;\n",
       "            color:  #f1f1f1;\n",
       "        }    #T_c10c01f2_151f_11ea_8266_d5835e076d48row4_col1 {\n",
       "            background-color:  #3b4cc0;\n",
       "            color:  #f1f1f1;\n",
       "        }    #T_c10c01f2_151f_11ea_8266_d5835e076d48row4_col2 {\n",
       "            background-color:  #3b4cc0;\n",
       "            color:  #f1f1f1;\n",
       "        }    #T_c10c01f2_151f_11ea_8266_d5835e076d48row4_col3 {\n",
       "            background-color:  #f6bfa6;\n",
       "            color:  #000000;\n",
       "        }    #T_c10c01f2_151f_11ea_8266_d5835e076d48row4_col4 {\n",
       "            background-color:  #b40426;\n",
       "            color:  #f1f1f1;\n",
       "        }    #T_c10c01f2_151f_11ea_8266_d5835e076d48row4_col5 {\n",
       "            background-color:  #e8765c;\n",
       "            color:  #000000;\n",
       "        }    #T_c10c01f2_151f_11ea_8266_d5835e076d48row5_col0 {\n",
       "            background-color:  #3c4ec2;\n",
       "            color:  #f1f1f1;\n",
       "        }    #T_c10c01f2_151f_11ea_8266_d5835e076d48row5_col1 {\n",
       "            background-color:  #3c4ec2;\n",
       "            color:  #f1f1f1;\n",
       "        }    #T_c10c01f2_151f_11ea_8266_d5835e076d48row5_col2 {\n",
       "            background-color:  #4055c8;\n",
       "            color:  #f1f1f1;\n",
       "        }    #T_c10c01f2_151f_11ea_8266_d5835e076d48row5_col3 {\n",
       "            background-color:  #e16751;\n",
       "            color:  #000000;\n",
       "        }    #T_c10c01f2_151f_11ea_8266_d5835e076d48row5_col4 {\n",
       "            background-color:  #e7745b;\n",
       "            color:  #000000;\n",
       "        }    #T_c10c01f2_151f_11ea_8266_d5835e076d48row5_col5 {\n",
       "            background-color:  #b40426;\n",
       "            color:  #f1f1f1;\n",
       "        }</style><table id=\"T_c10c01f2_151f_11ea_8266_d5835e076d48\" ><thead>    <tr>        <th class=\"blank level0\" ></th>        <th class=\"col_heading level0 col0\" >EXAMENKANDIDATEN</th>        <th class=\"col_heading level0 col1\" >GESLAAGDEN</th>        <th class=\"col_heading level0 col2\" >GEZAKTEN</th>        <th class=\"col_heading level0 col3\" >GEMIDDELD CIJFER SCHOOLEXAMEN</th>        <th class=\"col_heading level0 col4\" >GEMIDDELD CIJFER CENTRAAL EXAMEN</th>        <th class=\"col_heading level0 col5\" >GEMIDDELD CIJFER CIJFERLIJST</th>    </tr></thead><tbody>\n",
       "                <tr>\n",
       "                        <th id=\"T_c10c01f2_151f_11ea_8266_d5835e076d48level0_row0\" class=\"row_heading level0 row0\" >EXAMENKANDIDATEN</th>\n",
       "                        <td id=\"T_c10c01f2_151f_11ea_8266_d5835e076d48row0_col0\" class=\"data row0 col0\" >1</td>\n",
       "                        <td id=\"T_c10c01f2_151f_11ea_8266_d5835e076d48row0_col1\" class=\"data row0 col1\" >0.99568</td>\n",
       "                        <td id=\"T_c10c01f2_151f_11ea_8266_d5835e076d48row0_col2\" class=\"data row0 col2\" >0.67618</td>\n",
       "                        <td id=\"T_c10c01f2_151f_11ea_8266_d5835e076d48row0_col3\" class=\"data row0 col3\" >-0.0294</td>\n",
       "                        <td id=\"T_c10c01f2_151f_11ea_8266_d5835e076d48row0_col4\" class=\"data row0 col4\" >-0.047058</td>\n",
       "                        <td id=\"T_c10c01f2_151f_11ea_8266_d5835e076d48row0_col5\" class=\"data row0 col5\" >-0.0389521</td>\n",
       "            </tr>\n",
       "            <tr>\n",
       "                        <th id=\"T_c10c01f2_151f_11ea_8266_d5835e076d48level0_row1\" class=\"row_heading level0 row1\" >GESLAAGDEN</th>\n",
       "                        <td id=\"T_c10c01f2_151f_11ea_8266_d5835e076d48row1_col0\" class=\"data row1 col0\" >0.99568</td>\n",
       "                        <td id=\"T_c10c01f2_151f_11ea_8266_d5835e076d48row1_col1\" class=\"data row1 col1\" >1</td>\n",
       "                        <td id=\"T_c10c01f2_151f_11ea_8266_d5835e076d48row1_col2\" class=\"data row1 col2\" >0.604851</td>\n",
       "                        <td id=\"T_c10c01f2_151f_11ea_8266_d5835e076d48row1_col3\" class=\"data row1 col3\" >-0.00638847</td>\n",
       "                        <td id=\"T_c10c01f2_151f_11ea_8266_d5835e076d48row1_col4\" class=\"data row1 col4\" >-0.0133583</td>\n",
       "                        <td id=\"T_c10c01f2_151f_11ea_8266_d5835e076d48row1_col5\" class=\"data row1 col5\" >-0.00817554</td>\n",
       "            </tr>\n",
       "            <tr>\n",
       "                        <th id=\"T_c10c01f2_151f_11ea_8266_d5835e076d48level0_row2\" class=\"row_heading level0 row2\" >GEZAKTEN</th>\n",
       "                        <td id=\"T_c10c01f2_151f_11ea_8266_d5835e076d48row2_col0\" class=\"data row2 col0\" >0.67618</td>\n",
       "                        <td id=\"T_c10c01f2_151f_11ea_8266_d5835e076d48row2_col1\" class=\"data row2 col1\" >0.604851</td>\n",
       "                        <td id=\"T_c10c01f2_151f_11ea_8266_d5835e076d48row2_col2\" class=\"data row2 col2\" >1</td>\n",
       "                        <td id=\"T_c10c01f2_151f_11ea_8266_d5835e076d48row2_col3\" class=\"data row2 col3\" >-0.201457</td>\n",
       "                        <td id=\"T_c10c01f2_151f_11ea_8266_d5835e076d48row2_col4\" class=\"data row2 col4\" >-0.297597</td>\n",
       "                        <td id=\"T_c10c01f2_151f_11ea_8266_d5835e076d48row2_col5\" class=\"data row2 col5\" >-0.2692</td>\n",
       "            </tr>\n",
       "            <tr>\n",
       "                        <th id=\"T_c10c01f2_151f_11ea_8266_d5835e076d48level0_row3\" class=\"row_heading level0 row3\" >GEMIDDELD CIJFER SCHOOLEXAMEN</th>\n",
       "                        <td id=\"T_c10c01f2_151f_11ea_8266_d5835e076d48row3_col0\" class=\"data row3 col0\" >-0.0294</td>\n",
       "                        <td id=\"T_c10c01f2_151f_11ea_8266_d5835e076d48row3_col1\" class=\"data row3 col1\" >-0.00638847</td>\n",
       "                        <td id=\"T_c10c01f2_151f_11ea_8266_d5835e076d48row3_col2\" class=\"data row3 col2\" >-0.201457</td>\n",
       "                        <td id=\"T_c10c01f2_151f_11ea_8266_d5835e076d48row3_col3\" class=\"data row3 col3\" >1</td>\n",
       "                        <td id=\"T_c10c01f2_151f_11ea_8266_d5835e076d48row3_col4\" class=\"data row3 col4\" >0.571393</td>\n",
       "                        <td id=\"T_c10c01f2_151f_11ea_8266_d5835e076d48row3_col5\" class=\"data row3 col5\" >0.833844</td>\n",
       "            </tr>\n",
       "            <tr>\n",
       "                        <th id=\"T_c10c01f2_151f_11ea_8266_d5835e076d48level0_row4\" class=\"row_heading level0 row4\" >GEMIDDELD CIJFER CENTRAAL EXAMEN</th>\n",
       "                        <td id=\"T_c10c01f2_151f_11ea_8266_d5835e076d48row4_col0\" class=\"data row4 col0\" >-0.047058</td>\n",
       "                        <td id=\"T_c10c01f2_151f_11ea_8266_d5835e076d48row4_col1\" class=\"data row4 col1\" >-0.0133583</td>\n",
       "                        <td id=\"T_c10c01f2_151f_11ea_8266_d5835e076d48row4_col2\" class=\"data row4 col2\" >-0.297597</td>\n",
       "                        <td id=\"T_c10c01f2_151f_11ea_8266_d5835e076d48row4_col3\" class=\"data row4 col3\" >0.571393</td>\n",
       "                        <td id=\"T_c10c01f2_151f_11ea_8266_d5835e076d48row4_col4\" class=\"data row4 col4\" >1</td>\n",
       "                        <td id=\"T_c10c01f2_151f_11ea_8266_d5835e076d48row4_col5\" class=\"data row4 col5\" >0.784157</td>\n",
       "            </tr>\n",
       "            <tr>\n",
       "                        <th id=\"T_c10c01f2_151f_11ea_8266_d5835e076d48level0_row5\" class=\"row_heading level0 row5\" >GEMIDDELD CIJFER CIJFERLIJST</th>\n",
       "                        <td id=\"T_c10c01f2_151f_11ea_8266_d5835e076d48row5_col0\" class=\"data row5 col0\" >-0.0389521</td>\n",
       "                        <td id=\"T_c10c01f2_151f_11ea_8266_d5835e076d48row5_col1\" class=\"data row5 col1\" >-0.00817554</td>\n",
       "                        <td id=\"T_c10c01f2_151f_11ea_8266_d5835e076d48row5_col2\" class=\"data row5 col2\" >-0.2692</td>\n",
       "                        <td id=\"T_c10c01f2_151f_11ea_8266_d5835e076d48row5_col3\" class=\"data row5 col3\" >0.833844</td>\n",
       "                        <td id=\"T_c10c01f2_151f_11ea_8266_d5835e076d48row5_col4\" class=\"data row5 col4\" >0.784157</td>\n",
       "                        <td id=\"T_c10c01f2_151f_11ea_8266_d5835e076d48row5_col5\" class=\"data row5 col5\" >1</td>\n",
       "            </tr>\n",
       "    </tbody></table>"
      ],
      "text/plain": [
       "<pandas.io.formats.style.Styler at 0x7fc44c5cab70>"
      ]
     },
     "execution_count": 5,
     "metadata": {},
     "output_type": "execute_result"
    }
   ],
   "source": [
    "import pandas as pd\n",
    "import numpy as np\n",
    "\n",
    "corr = df.corr()\n",
    "corr.style.background_gradient(cmap='coolwarm')"
   ]
  },
  {
   "cell_type": "markdown",
   "metadata": {},
   "source": [
    "For example, we can see that exam candidates correlates highly with the amount of people who passed. However, this is most likely a spurious correlation. At the same time, we can see that scores of school exams is a good predictor for the governmental exams. So, how good a child performs in school can predict whether he/she will pass or not. However, these numbers do not predict as well those who will fail. Therefore, we can say Dutch schools are good at predicting good students. Furthermore, there is a field that can be removed later, namely: The total amount of candidates. Indeed, it does not provide any additional data and does not help predict whether a certain person will pass in the future or not."
   ]
  },
  {
   "cell_type": "markdown",
   "metadata": {},
   "source": [
    "#### Value distributions"
   ]
  },
  {
   "cell_type": "markdown",
   "metadata": {},
   "source": [
    "We will get histograms of different measures to get an idea of how the different values and measures are distributed. All of the histograms and outputs are presented below."
   ]
  },
  {
   "cell_type": "code",
   "execution_count": 56,
   "metadata": {},
   "outputs": [
    {
     "data": {
      "image/png": "[encoded data removed]",
      "text/plain": [
       "<Figure size 432x288 with 2 Axes>"
      ]
     },
     "metadata": {
      "needs_background": "light"
     },
     "output_type": "display_data"
    }
   ],
   "source": [
    "import matplotlib.pyplot as plt\n",
    "\n",
    "plt.subplot(3, 2, 1)\n",
    "plt.hist(x=df['GEMIDDELD CIJFER SCHOOLEXAMEN'], bins='auto')\n",
    "plt.title('School exam grades')\n",
    "\n",
    "plt.subplot(3, 2, 2)\n",
    "plt.hist(x=df['GEMIDDELD CIJFER CENTRAAL EXAMEN'], bins='auto')\n",
    "plt.title('Government exam grades')\n",
    "\n",
    "\n",
    "plt.show()"
   ]
  },
  {
   "cell_type": "code",
   "execution_count": 57,
   "metadata": {},
   "outputs": [
    {
     "data": {
      "text/plain": [
       "Text(0.5, 1.0, 'Student performance')"
      ]
     },
     "execution_count": 57,
     "metadata": {},
     "output_type": "execute_result"
    },
    {
     "data": {
      "image/png": "[encoded data removed]",
      "text/plain": [
       "<Figure size 432x288 with 1 Axes>"
      ]
     },
     "metadata": {
      "needs_background": "light"
     },
     "output_type": "display_data"
    }
   ],
   "source": [
    "plt.hist(x=df['GEMIDDELD CIJFER CIJFERLIJST'], bins='auto')\n",
    "plt.title('Student performance')"
   ]
  },
  {
   "cell_type": "markdown",
   "metadata": {},
   "source": [
    "The distributions are sentered around 5-5.5 which is normal in the Dutch system. Therefore, none of the above variables look alarming or unusual. Thus, the quality of data on exam grades and school grades is high."
   ]
  },
  {
   "cell_type": "code",
   "execution_count": 58,
   "metadata": {},
   "outputs": [
    {
     "data": {
      "image/png": "[encoded data removed]",
      "text/plain": [
       "<Figure size 432x288 with 2 Axes>"
      ]
     },
     "metadata": {
      "needs_background": "light"
     },
     "output_type": "display_data"
    }
   ],
   "source": [
    "plt.subplot(3, 2, 1)\n",
    "plt.hist(x=df['GESLAAGDEN'], bins='auto')\n",
    "plt.title('People who passed')\n",
    "\n",
    "plt.subplot(3, 2, 2)\n",
    "plt.hist(x=df['GEZAKTEN'], bins='auto')\n",
    "plt.title('People who failed')\n",
    "\n",
    "\n",
    "plt.show()"
   ]
  },
  {
   "cell_type": "code",
   "execution_count": 34,
   "metadata": {},
   "outputs": [
    {
     "data": {
      "text/plain": [
       "Text(0.5, 1.0, 'Histogram of Number of exam candidates per school')"
      ]
     },
     "execution_count": 34,
     "metadata": {},
     "output_type": "execute_result"
    },
    {
     "data": {
      "image/png": "[encoded data removed]",
      "text/plain": [
       "<Figure size 432x288 with 1 Axes>"
      ]
     },
     "metadata": {
      "needs_background": "light"
     },
     "output_type": "display_data"
    }
   ],
   "source": [
    "plt.hist(x=df['EXAMENKANDIDATEN'], bins='auto')\n",
    "plt.title('Histogram of Number of exam candidates per school')"
   ]
  },
  {
   "cell_type": "markdown",
   "metadata": {},
   "source": [
    "Most of the Dutch schools have around 15-30 people per year, therefore, it is of no surprise that the distribution is so skewed to the right. At the sametime, the amount of people who failed their exam was much lower than those who passed, so the data is not alarming too."
   ]
  },
  {
   "cell_type": "code",
   "execution_count": 41,
   "metadata": {},
   "outputs": [
    {
     "data": {
      "text/plain": [
       "Text(0.5, 1.0, 'Number of Candidates per type of education')"
      ]
     },
     "execution_count": 41,
     "metadata": {},
     "output_type": "execute_result"
    },
    {
     "data": {
      "image/png": "[encoded data removed]",
      "text/plain": [
       "<Figure size 432x288 with 1 Axes>"
      ]
     },
     "metadata": {
      "needs_background": "light"
     },
     "output_type": "display_data"
    }
   ],
   "source": [
    "plt.bar(df['ONDERWIJSTYPE VO'],df['EXAMENKANDIDATEN'],color='blue',edgecolor='black')\n",
    "plt.title('Number of Candidates per type of education',fontsize=20)"
   ]
  },
  {
   "cell_type": "markdown",
   "metadata": {},
   "source": [
    "There are much more students who study in VMBO because it represents schools of a much higher level of education. Therefore,there is nothing alarming in the fact that there are more people from this typeof education"
   ]
  },
  {
   "cell_type": "markdown",
   "metadata": {},
   "source": [
    "### Extract Transform Load"
   ]
  },
  {
   "cell_type": "markdown",
   "metadata": {},
   "source": [
    "ETL takes care of getting data, transforming the data, and storing it to a persistent storage. The data is loaded. We need to transform it, and finally to store it in object store, in this case in the IBM Cloud. However, for this specific Data Science project, ETL is not required. The dataset already comes as one, therefore, no extra processes need to be performed to store it. And the extraction of the data was already performed in an earlier stage for data exploration."
   ]
  },
  {
   "cell_type": "markdown",
   "metadata": {},
   "source": [
    "### Feature Creation"
   ]
  },
  {
   "cell_type": "markdown",
   "metadata": {},
   "source": [
    "#### Data Cleansing"
   ]
  },
  {
   "cell_type": "markdown",
   "metadata": {},
   "source": [
    "As identified previously the following actions need to be taken to clean the data:\n",
    "\n",
    "1. Remove LEERWEG VMBO, VMBO SECTOR variables because almost 50% of these fields are missing data;\n",
    "2. Remove the field EXAMENCANDIDATEN because it does not correlate with any of the fields in meaningful way. \n",
    "3. Remove BRIN NUMMER, PROVINCE and VESTEGINGSNUMMER because this data is not meaningful in this context.\n",
    "4. Remove GESLAAGDEN and GEZAKTEN because this information can be determined from the grades themselves."
   ]
  },
  {
   "cell_type": "code",
   "execution_count": 3,
   "metadata": {},
   "outputs": [],
   "source": [
    "df.drop('EXAMENKANDIDATEN', axis=1, inplace=True)\n",
    "df.drop('LEERWEG VMBO', axis=1, inplace=True)\n",
    "df.drop('VMBO SECTOR', axis=1, inplace=True)\n",
    "df.drop('BRIN NUMMER', axis=1, inplace=True)\n",
    "df.drop('INSTELLINGSNAAM VESTIGING', axis=1, inplace=True)\n",
    "df.drop('PROVINCIE VESTIGING', axis=1, inplace=True)\n",
    "df.drop('VESTIGINGSNUMMER', axis=1, inplace=True)\n",
    "df.drop('GESLAAGDEN', axis=1, inplace=True)\n",
    "df.drop('GEZAKTEN', axis=1, inplace=True)"
   ]
  },
  {
   "cell_type": "markdown",
   "metadata": {},
   "source": [
    "If we check, we can see that all the columns have been deleted."
   ]
  },
  {
   "cell_type": "code",
   "execution_count": 4,
   "metadata": {},
   "outputs": [
    {
     "data": {
      "text/plain": [
       "Index(['GEMEENTENAAM VESTIGING', 'ONDERWIJSTYPE VO', 'AFDELING',\n",
       "       'GEMIDDELD CIJFER SCHOOLEXAMEN', 'GEMIDDELD CIJFER CENTRAAL EXAMEN',\n",
       "       'GEMIDDELD CIJFER CIJFERLIJST'],\n",
       "      dtype='object')"
      ]
     },
     "execution_count": 4,
     "metadata": {},
     "output_type": "execute_result"
    }
   ],
   "source": [
    "df.columns"
   ]
  },
  {
   "cell_type": "markdown",
   "metadata": {},
   "source": [
    "Therefore, the Data Cleansing part of the project was finished. The data is now of good quality to be processed and validated."
   ]
  },
  {
   "cell_type": "markdown",
   "metadata": {},
   "source": [
    "#### Feature Creation"
   ]
  },
  {
   "cell_type": "markdown",
   "metadata": {},
   "source": [
    "The only task required to be done at this point is one-hot encoding of categorical variables. The rest was either done at the previous step (e.g. dealing with poor quality data and missing fields) or is not required due to how the data is available. No time dimension is available in the dataset, therefore, time manipulations are not needed. Additionally, standartization will be done to ensure that all the variables are on the same scale. Thus, one-hot encoding is the following step:"
   ]
  },
  {
   "cell_type": "code",
   "execution_count": 5,
   "metadata": {},
   "outputs": [],
   "source": [
    "df = pd.concat([df,pd.get_dummies(df['ONDERWIJSTYPE VO'])],axis=1)\n",
    "df = pd.concat([df,pd.get_dummies(df['GEMEENTENAAM VESTIGING'])],axis=1)\n",
    "df = pd.concat([df,pd.get_dummies(df['AFDELING'])],axis=1)\n",
    "df.drop('ONDERWIJSTYPE VO', axis=1, inplace=True)\n",
    "df.drop('GEMEENTENAAM VESTIGING', axis=1, inplace=True)\n",
    "df.drop('AFDELING', axis=1, inplace=True)"
   ]
  },
  {
   "cell_type": "code",
   "execution_count": 6,
   "metadata": {},
   "outputs": [],
   "source": [
    "from sklearn.preprocessing import StandardScaler\n",
    "sc = StandardScaler()\n",
    "df['Gemiddeld cijfer trans'] = sc.fit_transform(df[['GEMIDDELD CIJFER CIJFERLIJST']])\n",
    "df.drop('GEMIDDELD CIJFER CIJFERLIJST', axis=1, inplace=True)"
   ]
  },
  {
   "cell_type": "code",
   "execution_count": 7,
   "metadata": {},
   "outputs": [],
   "source": [
    "sc1 = StandardScaler()\n",
    "df['GEMIDDELD CIJFER SCHOOLEXAMEN trans'] = sc1.fit_transform(df[['GEMIDDELD CIJFER SCHOOLEXAMEN']])\n",
    "df.drop('GEMIDDELD CIJFER SCHOOLEXAMEN', axis=1, inplace=True)"
   ]
  },
  {
   "cell_type": "code",
   "execution_count": 8,
   "metadata": {},
   "outputs": [],
   "source": [
    "sc2 = StandardScaler()\n",
    "df['GEMIDDELD CIJFER CENTRAAL EXAMEN trans'] = sc2.fit_transform(df[['GEMIDDELD CIJFER CENTRAAL EXAMEN']])\n",
    "df.drop('GEMIDDELD CIJFER CENTRAAL EXAMEN', axis=1, inplace=True)"
   ]
  },
  {
   "cell_type": "markdown",
   "metadata": {},
   "source": [
    "The following fields have been encoded:  Education type.  This way, we will be able to compare between schools and education levels as well as between geographies: whether schools from particular locations are better than others. Additionally, all the numeric fields, namely 3 types of grades as well as number of people who passed and who did not were standardized to ensure they are on the same scale."
   ]
  },
  {
   "cell_type": "markdown",
   "metadata": {},
   "source": [
    "Let's check the database now. Itlooks like it is ready to be used by the model."
   ]
  },
  {
   "cell_type": "code",
   "execution_count": 9,
   "metadata": {},
   "outputs": [
    {
     "data": {
      "text/html": [
       "<div>\n",
       "<style scoped>\n",
       "    .dataframe tbody tr th:only-of-type {\n",
       "        vertical-align: middle;\n",
       "    }\n",
       "\n",
       "    .dataframe tbody tr th {\n",
       "        vertical-align: top;\n",
       "    }\n",
       "\n",
       "    .dataframe thead th {\n",
       "        text-align: right;\n",
       "    }\n",
       "</style>\n",
       "<table border=\"1\" class=\"dataframe\">\n",
       "  <thead>\n",
       "    <tr style=\"text-align: right;\">\n",
       "      <th></th>\n",
       "      <th>HAVO</th>\n",
       "      <th>VMBO</th>\n",
       "      <th>VWO</th>\n",
       "      <th>AA EN HUNZE</th>\n",
       "      <th>AALBURG</th>\n",
       "      <th>AALSMEER</th>\n",
       "      <th>AALTEN</th>\n",
       "      <th>ACHTKARSPELEN</th>\n",
       "      <th>ALKMAAR</th>\n",
       "      <th>ALMELO</th>\n",
       "      <th>...</th>\n",
       "      <th>Technologie Orientatie</th>\n",
       "      <th>Transport en Logistiek</th>\n",
       "      <th>Uiterlijke Verzorging</th>\n",
       "      <th>Verzorging</th>\n",
       "      <th>Voertuigentechniek</th>\n",
       "      <th>ZWE</th>\n",
       "      <th>Zorg en Welzijn -ISP</th>\n",
       "      <th>Gemiddeld cijfer trans</th>\n",
       "      <th>GEMIDDELD CIJFER SCHOOLEXAMEN trans</th>\n",
       "      <th>GEMIDDELD CIJFER CENTRAAL EXAMEN trans</th>\n",
       "    </tr>\n",
       "  </thead>\n",
       "  <tbody>\n",
       "    <tr>\n",
       "      <th>0</th>\n",
       "      <td>1</td>\n",
       "      <td>0</td>\n",
       "      <td>0</td>\n",
       "      <td>0</td>\n",
       "      <td>0</td>\n",
       "      <td>0</td>\n",
       "      <td>0</td>\n",
       "      <td>0</td>\n",
       "      <td>0</td>\n",
       "      <td>0</td>\n",
       "      <td>...</td>\n",
       "      <td>0</td>\n",
       "      <td>0</td>\n",
       "      <td>0</td>\n",
       "      <td>0</td>\n",
       "      <td>0</td>\n",
       "      <td>0</td>\n",
       "      <td>0</td>\n",
       "      <td>1.045527</td>\n",
       "      <td>1.042943</td>\n",
       "      <td>0.671667</td>\n",
       "    </tr>\n",
       "    <tr>\n",
       "      <th>1</th>\n",
       "      <td>1</td>\n",
       "      <td>0</td>\n",
       "      <td>0</td>\n",
       "      <td>0</td>\n",
       "      <td>0</td>\n",
       "      <td>0</td>\n",
       "      <td>0</td>\n",
       "      <td>0</td>\n",
       "      <td>0</td>\n",
       "      <td>0</td>\n",
       "      <td>...</td>\n",
       "      <td>0</td>\n",
       "      <td>0</td>\n",
       "      <td>0</td>\n",
       "      <td>0</td>\n",
       "      <td>0</td>\n",
       "      <td>0</td>\n",
       "      <td>0</td>\n",
       "      <td>-0.646556</td>\n",
       "      <td>-0.943912</td>\n",
       "      <td>-0.321635</td>\n",
       "    </tr>\n",
       "  </tbody>\n",
       "</table>\n",
       "<p>2 rows × 357 columns</p>\n",
       "</div>"
      ],
      "text/plain": [
       "   HAVO  VMBO  VWO  AA EN HUNZE  AALBURG  AALSMEER  AALTEN  ACHTKARSPELEN  \\\n",
       "0     1     0    0            0        0         0       0              0   \n",
       "1     1     0    0            0        0         0       0              0   \n",
       "\n",
       "   ALKMAAR  ALMELO  ...  Technologie Orientatie  Transport en Logistiek  \\\n",
       "0        0       0  ...                       0                       0   \n",
       "1        0       0  ...                       0                       0   \n",
       "\n",
       "   Uiterlijke Verzorging  Verzorging  Voertuigentechniek  ZWE  \\\n",
       "0                      0           0                   0    0   \n",
       "1                      0           0                   0    0   \n",
       "\n",
       "   Zorg en Welzijn -ISP  Gemiddeld cijfer trans  \\\n",
       "0                     0                1.045527   \n",
       "1                     0               -0.646556   \n",
       "\n",
       "   GEMIDDELD CIJFER SCHOOLEXAMEN trans  GEMIDDELD CIJFER CENTRAAL EXAMEN trans  \n",
       "0                             1.042943                                0.671667  \n",
       "1                            -0.943912                               -0.321635  \n",
       "\n",
       "[2 rows x 357 columns]"
      ]
     },
     "execution_count": 9,
     "metadata": {},
     "output_type": "execute_result"
    }
   ],
   "source": [
    "df.head(2)"
   ]
  },
  {
   "cell_type": "markdown",
   "metadata": {},
   "source": [
    "### Non Deep Learning model Definition, Training and Evaluation"
   ]
  },
  {
   "cell_type": "markdown",
   "metadata": {},
   "source": [
    "Since the answer that needs to be found by the algorithm is a grade, which can be a continuou variable from 0 to 10, the algorithm to be used is Regression. At the same time, the evaluation method that will be used is R2. For regression, this evaluation method is the best. "
   ]
  },
  {
   "cell_type": "markdown",
   "metadata": {},
   "source": [
    "Firstly, a non Deep Learning environment will be used. The model is defined as follows."
   ]
  },
  {
   "cell_type": "code",
   "execution_count": 87,
   "metadata": {},
   "outputs": [],
   "source": [
    "Y = df['GEMIDDELD CIJFER SCHOOLEXAMEN trans']\n",
    "df.drop('GEMIDDELD CIJFER SCHOOLEXAMEN trans', axis=1,inplace=True)"
   ]
  },
  {
   "cell_type": "code",
   "execution_count": 88,
   "metadata": {},
   "outputs": [
    {
     "data": {
      "text/plain": [
       "0.768754487886483"
      ]
     },
     "execution_count": 88,
     "metadata": {},
     "output_type": "execute_result"
    }
   ],
   "source": [
    "from sklearn.linear_model import LinearRegression\n",
    "lr = LinearRegression()\n",
    "lr.fit(df,Y)\n",
    "lr.score(df,Y)"
   ]
  },
  {
   "cell_type": "markdown",
   "metadata": {},
   "source": [
    "As can be seen, the model is doing a good job at predicting the grades: it is currently at 77% accuracy. To try to improve its performance, we will now tryto mormalize the values before passing them, but for this, we will need to change the preprocessing. Namely, we will need to not standardize the grades variable."
   ]
  },
  {
   "cell_type": "code",
   "execution_count": 93,
   "metadata": {},
   "outputs": [],
   "source": [
    "Y = df['GEMIDDELD CIJFER SCHOOLEXAMEN']\n",
    "df.drop('GEMIDDELD CIJFER SCHOOLEXAMEN', axis=1,inplace=True)"
   ]
  },
  {
   "cell_type": "code",
   "execution_count": 94,
   "metadata": {},
   "outputs": [
    {
     "data": {
      "text/plain": [
       "0.7685211526604193"
      ]
     },
     "execution_count": 94,
     "metadata": {},
     "output_type": "execute_result"
    }
   ],
   "source": [
    "lr1 = LinearRegression(normalize=True)\n",
    "lr1.fit(df,Y)\n",
    "lr1.score(df,Y)"
   ]
  },
  {
   "cell_type": "markdown",
   "metadata": {},
   "source": [
    "As can be seen, normalization, actually, decreases model accuracy. It is now a little bit lower than previously. Therefore,it is better to train the model without normalizing its parameters. "
   ]
  },
  {
   "cell_type": "markdown",
   "metadata": {},
   "source": [
    "Now, we will try to remove the geographical dimension and split the data into training and testing. The new pre-processing is done in the cell below. It is identical to the first Linear Regression, except it has no geographical dimension."
   ]
  },
  {
   "cell_type": "code",
   "execution_count": 97,
   "metadata": {},
   "outputs": [],
   "source": [
    "df.drop('EXAMENKANDIDATEN', axis=1, inplace=True)\n",
    "df.drop('LEERWEG VMBO', axis=1, inplace=True)\n",
    "df.drop('VMBO SECTOR', axis=1, inplace=True)\n",
    "df.drop('BRIN NUMMER', axis=1, inplace=True)\n",
    "df.drop('INSTELLINGSNAAM VESTIGING', axis=1, inplace=True)\n",
    "df.drop('PROVINCIE VESTIGING', axis=1, inplace=True)\n",
    "df.drop('GEMEENTENAAM VESTIGING', axis=1, inplace=True)\n",
    "df.drop('VESTIGINGSNUMMER', axis=1, inplace=True)\n",
    "df.drop('GESLAAGDEN', axis=1, inplace=True)\n",
    "df.drop('GEZAKTEN', axis=1, inplace=True)\n",
    "df = pd.concat([df,pd.get_dummies(df['ONDERWIJSTYPE VO'])],axis=1)\n",
    "df = pd.concat([df,pd.get_dummies(df['AFDELING'])],axis=1)\n",
    "df.drop('ONDERWIJSTYPE VO', axis=1, inplace=True)\n",
    "df.drop('AFDELING', axis=1, inplace=True)\n",
    "\n",
    "from sklearn.preprocessing import StandardScaler\n",
    "sc = StandardScaler()\n",
    "df['Gemiddeld cijfer trans'] = sc.fit_transform(df[['GEMIDDELD CIJFER CIJFERLIJST']])\n",
    "df.drop('GEMIDDELD CIJFER CIJFERLIJST', axis=1, inplace=True)\n",
    "\n",
    "sc1 = StandardScaler()\n",
    "df['GEMIDDELD CIJFER SCHOOLEXAMEN trans'] = sc1.fit_transform(df[['GEMIDDELD CIJFER SCHOOLEXAMEN']])\n",
    "df.drop('GEMIDDELD CIJFER SCHOOLEXAMEN', axis=1, inplace=True)\n",
    "\n",
    "sc2 = StandardScaler()\n",
    "df['GEMIDDELD CIJFER CENTRAAL EXAMEN trans'] = sc2.fit_transform(df[['GEMIDDELD CIJFER CENTRAAL EXAMEN']])\n",
    "df.drop('GEMIDDELD CIJFER CENTRAAL EXAMEN', axis=1, inplace=True)"
   ]
  },
  {
   "cell_type": "code",
   "execution_count": 100,
   "metadata": {},
   "outputs": [],
   "source": [
    "Y = df['GEMIDDELD CIJFER SCHOOLEXAMEN trans']\n",
    "df.drop('GEMIDDELD CIJFER SCHOOLEXAMEN trans', axis=1,inplace=True)"
   ]
  },
  {
   "cell_type": "code",
   "execution_count": 101,
   "metadata": {},
   "outputs": [
    {
     "data": {
      "text/plain": [
       "0.7550388338133225"
      ]
     },
     "execution_count": 101,
     "metadata": {},
     "output_type": "execute_result"
    }
   ],
   "source": [
    "from sklearn.model_selection import train_test_split\n",
    "X_train, X_test, Y_train, Y_test = train_test_split(df, Y, test_size=0.33, random_state=42)\n",
    "lr2 = LinearRegression()\n",
    "lr2.fit(X_train,Y_train)\n",
    "lr2.score(X_test,Y_test)"
   ]
  },
  {
   "cell_type": "markdown",
   "metadata": {},
   "source": [
    "As we can see, accuracy of the model did not change a lot. Therefore, it is obvious that the geography is not adding a lot of value. Therefore, it will be removed in the future model. Now, let's look at the performnce of the model where neither normalization, nor standartization were performed."
   ]
  },
  {
   "cell_type": "code",
   "execution_count": 31,
   "metadata": {},
   "outputs": [
    {
     "data": {
      "text/plain": [
       "0.7549771898240034"
      ]
     },
     "execution_count": 31,
     "metadata": {},
     "output_type": "execute_result"
    }
   ],
   "source": [
    "df.drop('EXAMENKANDIDATEN', axis=1, inplace=True)\n",
    "df.drop('LEERWEG VMBO', axis=1, inplace=True)\n",
    "df.drop('VMBO SECTOR', axis=1, inplace=True)\n",
    "df.drop('BRIN NUMMER', axis=1, inplace=True)\n",
    "df.drop('INSTELLINGSNAAM VESTIGING', axis=1, inplace=True)\n",
    "df.drop('PROVINCIE VESTIGING', axis=1, inplace=True)\n",
    "df.drop('GEMEENTENAAM VESTIGING', axis=1, inplace=True)\n",
    "df.drop('VESTIGINGSNUMMER', axis=1, inplace=True)\n",
    "df.drop('GESLAAGDEN', axis=1, inplace=True)\n",
    "df.drop('GEZAKTEN', axis=1, inplace=True)\n",
    "df = pd.concat([df,pd.get_dummies(df['ONDERWIJSTYPE VO'])],axis=1)\n",
    "df = pd.concat([df,pd.get_dummies(df['AFDELING'])],axis=1)\n",
    "df.drop('ONDERWIJSTYPE VO', axis=1, inplace=True)\n",
    "df.drop('AFDELING', axis=1, inplace=True)\n",
    "\n",
    "Y = df['GEMIDDELD CIJFER SCHOOLEXAMEN']\n",
    "df.drop('GEMIDDELD CIJFER SCHOOLEXAMEN', axis=1,inplace=True)\n",
    "\n",
    "from sklearn.model_selection import train_test_split\n",
    "X_train, X_test, Y_train, Y_test = train_test_split(df, Y, test_size=0.33, random_state=42)\n",
    "from sklearn.linear_model import LinearRegression\n",
    "lr3 = LinearRegression()\n",
    "lr3.fit(X_train,Y_train)\n",
    "lr3.score(X_test,Y_test)"
   ]
  },
  {
   "cell_type": "markdown",
   "metadata": {},
   "source": [
    "So, as you can see the model without any parameter tuning has a sligthly lower accuracy."
   ]
  },
  {
   "cell_type": "markdown",
   "metadata": {},
   "source": [
    "To conclude, this table provides an overview of accuracy of different linear regressions depending on preprocessing:\n",
    "\n",
    "|Model|Yes|No|\n",
    "|-------|------|------|\n",
    "Geography variable present| 76.85%|75.55%|\n",
    "Normalized|76.84%|76.85%|\n",
    "Standardized|76.85%|75.49%|\n",
    "\n",
    "It is obvious that it is better to use the model with the geographical variable, no normalization but standardized. However, it is not clear what is the causation between geography and grades, therefore, this variable is dropped."
   ]
  },
  {
   "cell_type": "markdown",
   "metadata": {},
   "source": [
    "### Deep Learning model Definition, Training and Evaluation"
   ]
  },
  {
   "cell_type": "markdown",
   "metadata": {},
   "source": [
    "Now, a Deep Learning model will be applied. To not mix up the datasets, we will load it once again and call it *df2*. The geographical dimension will be removed, because it does not add value and there is no strong causation between the grades received and the place where school is situated. Therefore, this dimension will be removed."
   ]
  },
  {
   "cell_type": "markdown",
   "metadata": {},
   "source": [
    "#### Definition"
   ]
  },
  {
   "cell_type": "code",
   "execution_count": 15,
   "metadata": {},
   "outputs": [],
   "source": [
    "import types\n",
    "import pandas as pd\n",
    "from botocore.client import Config\n",
    "import ibm_boto3\n",
    "\n",
    "def __iter__(self): return 0\n",
    "\n",
    "# @hidden_cell\n",
    "# The following code accesses a file in your IBM Cloud Object Storage. It includes your credentials.\n",
    "# You might want to remove those credentials before you share the notebook.\n",
    "client_43d174e2a28c4a688502803b33a6000a = ibm_boto3.client(service_name='s3',\n",
    "    ibm_api_key_id='tnSn2jOMmTbSLpH6E5EeV0YhQUutl00kR4ths8LtfNIf',\n",
    "    ibm_auth_endpoint=\"https://iam.eu-gb.bluemix.net/oidc/token\",\n",
    "    config=Config(signature_version='oauth'),\n",
    "    endpoint_url='https://s3.eu-geo.objectstorage.service.networklayer.com')\n",
    "\n",
    "body = client_43d174e2a28c4a688502803b33a6000a.get_object(Bucket='pythonbasicsfordatascienceproject-donotdelete-pr-tv665solrgtita',Key='07-geslaagden-gezakten-en-cijfers-2017-2018.xlsx')['Body']\n",
    "# add missing __iter__ method, so pandas accepts body as file-like object\n",
    "if not hasattr(body, \"__iter__\"): body.__iter__ = types.MethodType( __iter__, body )\n",
    "\n",
    "df2 = pd.read_excel(body)\n",
    "\n",
    "df2.drop('EXAMENKANDIDATEN', axis=1, inplace=True)\n",
    "df2.drop('LEERWEG VMBO', axis=1, inplace=True)\n",
    "df2.drop('VMBO SECTOR', axis=1, inplace=True)\n",
    "df2.drop('BRIN NUMMER', axis=1, inplace=True)\n",
    "df2.drop('INSTELLINGSNAAM VESTIGING', axis=1, inplace=True)\n",
    "df2.drop('PROVINCIE VESTIGING', axis=1, inplace=True)\n",
    "df2.drop('VESTIGINGSNUMMER', axis=1, inplace=True)\n",
    "df2.drop('GESLAAGDEN', axis=1, inplace=True)\n",
    "df2.drop('GEZAKTEN', axis=1, inplace=True)\n",
    "df2 = pd.concat([df2,pd.get_dummies(df2['ONDERWIJSTYPE VO'])],axis=1)\n",
    "df2 = pd.concat([df2,pd.get_dummies(df2['AFDELING'])],axis=1)\n",
    "df2.drop('ONDERWIJSTYPE VO', axis=1, inplace=True)\n",
    "df2.drop('GEMEENTENAAM VESTIGING', axis=1, inplace=True)\n",
    "df2.drop('AFDELING', axis=1, inplace=True)"
   ]
  },
  {
   "cell_type": "markdown",
   "metadata": {},
   "source": [
    "Keras learning environment was chosen as it is easy to implement in Python and provides a lot of opportunities. "
   ]
  },
  {
   "cell_type": "code",
   "execution_count": 11,
   "metadata": {},
   "outputs": [
    {
     "name": "stderr",
     "output_type": "stream",
     "text": [
      "Using TensorFlow backend.\n"
     ]
    }
   ],
   "source": [
    "from keras.models import Sequential\n",
    "from keras.layers import Dense\n",
    "from keras.optimizers import SGD"
   ]
  },
  {
   "cell_type": "markdown",
   "metadata": {},
   "source": [
    "We will need to check the dimensionality of the dataset to build the model later. Additionally, the data will be split into train and test datasets to be able to evaluate the data later."
   ]
  },
  {
   "cell_type": "code",
   "execution_count": 16,
   "metadata": {},
   "outputs": [],
   "source": [
    "dataset = df2.values\n",
    "X = dataset[:,0:53].astype(float) # number of cols-1\n",
    "Y = dataset[:,53]"
   ]
  },
  {
   "cell_type": "code",
   "execution_count": 17,
   "metadata": {},
   "outputs": [],
   "source": [
    "import numpy as np\n",
    "from sklearn.model_selection import train_test_split\n",
    "X_train, X_test, Y_train, Y_test = train_test_split(X, Y, test_size=0.33, random_state=42)"
   ]
  },
  {
   "cell_type": "code",
   "execution_count": 18,
   "metadata": {
    "scrolled": false
   },
   "outputs": [
    {
     "data": {
      "text/plain": [
       "(6972, 53)"
      ]
     },
     "execution_count": 18,
     "metadata": {},
     "output_type": "execute_result"
    }
   ],
   "source": [
    "X_train.shape"
   ]
  },
  {
   "cell_type": "markdown",
   "metadata": {},
   "source": [
    "The model is then built and compiled. We add 2 dense layers. 2 models will be created and their performance will be checked. They will use the same dataset, but different activation functions, different optimizaers and different loss will be used. THis way we will be able to see which model performs better."
   ]
  },
  {
   "cell_type": "code",
   "execution_count": 75,
   "metadata": {},
   "outputs": [],
   "source": [
    "import numpy\n",
    "seed = 7\n",
    "numpy.random.seed(seed)\n",
    "# create model\n",
    "model = Sequential()\n",
    "model.add(Dense(53, input_dim=53, activation='sigmoid'))\n",
    "model.add(Dense(1, activation='softmax'))\n",
    "model.compile(loss='mean_squared_error', optimizer='sgd', metrics=['accuracy'])"
   ]
  },
  {
   "cell_type": "code",
   "execution_count": 22,
   "metadata": {},
   "outputs": [],
   "source": [
    "import numpy\n",
    "seed = 7\n",
    "numpy.random.seed(seed)\n",
    "# create model\n",
    "model1 = Sequential()\n",
    "model1.add(Dense(53, input_dim=53, activation='relu'))\n",
    "model1.add(Dense(1, activation='softmax'))\n",
    "model1.compile(loss='binary_crossentropy', optimizer='adam', metrics=['accuracy'])"
   ]
  },
  {
   "cell_type": "markdown",
   "metadata": {},
   "source": [
    "#### Training"
   ]
  },
  {
   "cell_type": "code",
   "execution_count": 76,
   "metadata": {
    "scrolled": true
   },
   "outputs": [
    {
     "name": "stderr",
     "output_type": "stream",
     "text": [
      "/opt/conda/envs/Python36/lib/python3.6/site-packages/ipykernel/__main__.py:1: UserWarning: The `nb_epoch` argument in `fit` has been renamed `epochs`.\n",
      "  if __name__ == '__main__':\n"
     ]
    },
    {
     "name": "stdout",
     "output_type": "stream",
     "text": [
      "Epoch 1/20\n",
      "6972/6972 [==============================] - 1s 125us/step - loss: 0.9891 - acc: 0.0109\n",
      "Epoch 2/20\n",
      "6972/6972 [==============================] - 0s 60us/step - loss: 0.9891 - acc: 0.0109\n",
      "Epoch 3/20\n",
      "6972/6972 [==============================] - 0s 69us/step - loss: 0.9891 - acc: 0.0109\n",
      "Epoch 4/20\n",
      "6972/6972 [==============================] - 0s 62us/step - loss: 0.9891 - acc: 0.0109\n",
      "Epoch 5/20\n",
      "6972/6972 [==============================] - 0s 63us/step - loss: 0.9891 - acc: 0.0109\n",
      "Epoch 6/20\n",
      "6972/6972 [==============================] - 0s 61us/step - loss: 0.9891 - acc: 0.0109\n",
      "Epoch 7/20\n",
      "6972/6972 [==============================] - 0s 68us/step - loss: 0.9891 - acc: 0.0109\n",
      "Epoch 8/20\n",
      "6972/6972 [==============================] - 0s 61us/step - loss: 0.9891 - acc: 0.0109\n",
      "Epoch 9/20\n",
      "6972/6972 [==============================] - 0s 64us/step - loss: 0.9891 - acc: 0.0109\n",
      "Epoch 10/20\n",
      "6972/6972 [==============================] - 0s 59us/step - loss: 0.9891 - acc: 0.0109\n",
      "Epoch 11/20\n",
      "6972/6972 [==============================] - 2s 220us/step - loss: 0.9891 - acc: 0.0109\n",
      "Epoch 12/20\n",
      "6972/6972 [==============================] - 1s 132us/step - loss: 0.9891 - acc: 0.0109\n",
      "Epoch 13/20\n",
      "6972/6972 [==============================] - 0s 65us/step - loss: 0.9891 - acc: 0.0109\n",
      "Epoch 14/20\n",
      "6972/6972 [==============================] - 0s 61us/step - loss: 0.9891 - acc: 0.0109\n",
      "Epoch 15/20\n",
      "6972/6972 [==============================] - 0s 68us/step - loss: 0.9891 - acc: 0.0109\n",
      "Epoch 16/20\n",
      "6972/6972 [==============================] - 0s 64us/step - loss: 0.9891 - acc: 0.0109\n",
      "Epoch 17/20\n",
      "6972/6972 [==============================] - 0s 67us/step - loss: 0.9891 - acc: 0.0109\n",
      "Epoch 18/20\n",
      "6972/6972 [==============================] - 0s 61us/step - loss: 0.9891 - acc: 0.0109\n",
      "Epoch 19/20\n",
      "6972/6972 [==============================] - 0s 61us/step - loss: 0.9891 - acc: 0.0109\n",
      "Epoch 20/20\n",
      "6972/6972 [==============================] - 0s 67us/step - loss: 0.9891 - acc: 0.0109\n"
     ]
    },
    {
     "data": {
      "text/plain": [
       "<keras.callbacks.History at 0x7f0ae40c7da0>"
      ]
     },
     "execution_count": 76,
     "metadata": {},
     "output_type": "execute_result"
    }
   ],
   "source": [
    "model.fit(X_train, Y_train, batch_size=83, nb_epoch=20, verbose=1)"
   ]
  },
  {
   "cell_type": "code",
   "execution_count": 23,
   "metadata": {},
   "outputs": [
    {
     "name": "stderr",
     "output_type": "stream",
     "text": [
      "/opt/conda/envs/Python36/lib/python3.6/site-packages/ipykernel/__main__.py:1: UserWarning: The `nb_epoch` argument in `fit` has been renamed `epochs`.\n",
      "  if __name__ == '__main__':\n"
     ]
    },
    {
     "name": "stdout",
     "output_type": "stream",
     "text": [
      "Epoch 1/20\n",
      "6972/6972 [==============================] - 10s 1ms/step - loss: 15.7686 - acc: 0.0109\n",
      "Epoch 2/20\n",
      "6972/6972 [==============================] - 23s 3ms/step - loss: 15.7686 - acc: 0.0109\n",
      "Epoch 3/20\n",
      "6972/6972 [==============================] - 68s 10ms/step - loss: 15.7686 - acc: 0.0109\n",
      "Epoch 4/20\n",
      "6972/6972 [==============================] - 72s 10ms/step - loss: 15.7686 - acc: 0.0109\n",
      "Epoch 5/20\n",
      "6972/6972 [==============================] - 78s 11ms/step - loss: 15.7686 - acc: 0.0109\n",
      "Epoch 6/20\n",
      "6972/6972 [==============================] - 78s 11ms/step - loss: 15.7686 - acc: 0.0109\n",
      "Epoch 7/20\n",
      "6972/6972 [==============================] - 85s 12ms/step - loss: 15.7686 - acc: 0.0109\n",
      "Epoch 8/20\n",
      "6972/6972 [==============================] - 87s 12ms/step - loss: 15.7686 - acc: 0.0109\n",
      "Epoch 9/20\n",
      "6972/6972 [==============================] - 82s 12ms/step - loss: 15.7686 - acc: 0.0109\n",
      "Epoch 10/20\n",
      "6972/6972 [==============================] - 83s 12ms/step - loss: 15.7686 - acc: 0.0109\n",
      "Epoch 11/20\n",
      "6972/6972 [==============================] - 79s 11ms/step - loss: 15.7686 - acc: 0.0109\n",
      "Epoch 12/20\n",
      "6972/6972 [==============================] - 77s 11ms/step - loss: 15.7686 - acc: 0.0109\n",
      "Epoch 13/20\n",
      "6972/6972 [==============================] - 78s 11ms/step - loss: 15.7686 - acc: 0.0109\n",
      "Epoch 14/20\n",
      "6972/6972 [==============================] - 81s 12ms/step - loss: 15.7686 - acc: 0.0109\n",
      "Epoch 15/20\n",
      "6972/6972 [==============================] - 80s 11ms/step - loss: 15.7686 - acc: 0.0109\n",
      "Epoch 16/20\n",
      "6972/6972 [==============================] - 78s 11ms/step - loss: 15.7686 - acc: 0.0109\n",
      "Epoch 17/20\n",
      "6972/6972 [==============================] - 78s 11ms/step - loss: 15.7686 - acc: 0.0109\n",
      "Epoch 18/20\n",
      "6972/6972 [==============================] - 79s 11ms/step - loss: 15.7686 - acc: 0.0109\n",
      "Epoch 19/20\n",
      "6972/6972 [==============================] - 79s 11ms/step - loss: 15.7686 - acc: 0.0109\n",
      "Epoch 20/20\n",
      "6972/6972 [==============================] - 81s 12ms/step - loss: 15.7686 - acc: 0.0109\n"
     ]
    },
    {
     "data": {
      "text/plain": [
       "<keras.callbacks.History at 0x7fa5b81bf588>"
      ]
     },
     "execution_count": 23,
     "metadata": {},
     "output_type": "execute_result"
    }
   ],
   "source": [
    "model1.fit(X_train, Y_train, batch_size=83, nb_epoch=20, verbose=1)"
   ]
  },
  {
   "cell_type": "markdown",
   "metadata": {},
   "source": [
    "#### Evaluation"
   ]
  },
  {
   "cell_type": "code",
   "execution_count": 79,
   "metadata": {
    "scrolled": false
   },
   "outputs": [
    {
     "name": "stdout",
     "output_type": "stream",
     "text": [
      "3434/3434 [==============================] - 0s 136us/step\n"
     ]
    },
    {
     "data": {
      "text/plain": [
       "[0.9886429819452534, 0.011357018054746652]"
      ]
     },
     "execution_count": 79,
     "metadata": {},
     "output_type": "execute_result"
    }
   ],
   "source": [
    "model.evaluate(X_test,Y_test)"
   ]
  },
  {
   "cell_type": "code",
   "execution_count": 24,
   "metadata": {},
   "outputs": [
    {
     "name": "stdout",
     "output_type": "stream",
     "text": [
      "3434/3434 [==============================] - 55s 16ms/step\n"
     ]
    },
    {
     "data": {
      "text/plain": [
       "[15.761325839514225, 0.011357018054746652]"
      ]
     },
     "execution_count": 24,
     "metadata": {},
     "output_type": "execute_result"
    }
   ],
   "source": [
    "model1.evaluate(X_test,Y_test)"
   ]
  },
  {
   "cell_type": "markdown",
   "metadata": {},
   "source": [
    "As can be seen, the deep learning model is performing rather poorly. Indeed, there is a lot of room for improvement, however, this is not required as the Linear Regression model already gives pretty good accuracy and results for the real world, therefore, it can be used to predict grades."
   ]
  },
  {
   "cell_type": "markdown",
   "metadata": {},
   "source": [
    "### Model Deployment"
   ]
  },
  {
   "cell_type": "markdown",
   "metadata": {},
   "source": [
    "The model and the ADD product will be available on GitHub at this link. There it will be possible to download the notebook and use the model for predicting the performance of students in the future.\n",
    "\n",
    "[GitHub Repository](https://github.com/ganastas/Predicting-grades-of-students-in-Dutch-schools)"
   ]
  },
  {
   "cell_type": "markdown",
   "metadata": {},
   "source": [
    "### Conclusion"
   ]
  },
  {
   "cell_type": "markdown",
   "metadata": {},
   "source": [
    "As a result of this project, a Linear Regression model was created that can predict the performance of students on the future exam with 76% accuracy was created. It was determined that normalizing the values has a negative effect on the model performance. Additionally, standartization has a positive effect on the model performance. Furthermore, dropping the geography OneHotEncoding decreases model performance, however it is a spurious correlation, therefore, it is needed.\n",
    "\n",
    "The Linear Regression Model was made available through GitHub in the public repository. \n",
    "\n",
    "A Deep Learning model was also created. However, this models' performance was very low. It only improved slightly when different activation function was used and different loss was applied. Loss changed as a result of this. However, the model still stayed low quality because its accuracy is just 1%."
   ]
  },
  {
   "cell_type": "markdown",
   "metadata": {},
   "source": [
    "#### Discussion"
   ]
  },
  {
   "cell_type": "markdown",
   "metadata": {},
   "source": [
    "During this project, a model that can predict student performance was created. The features that were included are:\n",
    "\n",
    "* Average student grade\n",
    "* Average school exam grade\n",
    "* Level of education\n",
    "* Department\n",
    "\n",
    "The results of the project can be used by the following **stakeholders**:\n",
    "\n",
    "1. *Students* - they can assess their chances to enter certain universities, get scholarships. If needed, students can take timely action to get better grade on the final exam.\n",
    "\n",
    "2. *Parents* - they can understand where their children need extra support and coaching and provide it in a timely manner to ensure good results for the final exam.\n",
    "\n",
    "3. *Schools* - they can identify problematic students early and take action to ensure that students pass exams with good grades to improve repuration and education quality."
   ]
  }
 ],
 "metadata": {
  "kernelspec": {
   "display_name": "Python 3.6",
   "language": "python",
   "name": "python3"
  },
  "language_info": {
   "codemirror_mode": {
    "name": "ipython",
    "version": 3
   },
   "file_extension": ".py",
   "mimetype": "text/x-python",
   "name": "python",
   "nbconvert_exporter": "python",
   "pygments_lexer": "ipython3",
   "version": "3.6.8"
  }
 },
 "nbformat": 4,
 "nbformat_minor": 1
}
